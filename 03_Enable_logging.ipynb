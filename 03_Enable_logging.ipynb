{
 "cells": [
  {
   "cell_type": "markdown",
   "id": "cc6b7b9f-a75d-4b78-930f-26d2343ac2c2",
   "metadata": {},
   "source": [
    "# **03** - Enable Logging"
   ]
  },
  {
   "cell_type": "markdown",
   "id": "06fc5839-0b4b-42a3-9aaf-99a97e347955",
   "metadata": {},
   "source": [
    "### Import all needed packages"
   ]
  },
  {
   "cell_type": "code",
   "execution_count": 1,
   "id": "63cf31e4",
   "metadata": {
    "height": 98
   },
   "outputs": [],
   "source": [
    "import boto3\n",
    "import json\n",
    "import os\n",
    "\n",
    "bedrock = boto3.client('bedrock', region_name=\"us-west-2\")"
   ]
  },
  {
   "cell_type": "code",
   "execution_count": 2,
   "id": "e5d9e31b",
   "metadata": {
    "height": 47
   },
   "outputs": [],
   "source": [
    "from helpers.CloudWatchHelper import CloudWatch_Helper\n",
    "cloudwatch = CloudWatch_Helper()"
   ]
  },
  {
   "cell_type": "code",
   "execution_count": 3,
   "id": "87a30e7e",
   "metadata": {
    "height": 30
   },
   "outputs": [],
   "source": [
    "log_group_name = '/my/amazon/bedrock/logs'"
   ]
  },
  {
   "cell_type": "code",
   "execution_count": 4,
   "id": "2461a51c",
   "metadata": {
    "height": 30
   },
   "outputs": [
    {
     "name": "stdout",
     "output_type": "stream",
     "text": [
      "Log group '/my/amazon/bedrock/logs' created successfully.\n"
     ]
    }
   ],
   "source": [
    "cloudwatch.create_log_group(log_group_name)"
   ]
  },
  {
   "cell_type": "code",
   "execution_count": null,
   "id": "487d9113",
   "metadata": {
    "height": 47
   },
   "outputs": [],
   "source": [
    "# ARN : Amazon Resource Name\n",
    "# Cloud Watch: Amazon Service that Monitors"
   ]
  },
  {
   "cell_type": "code",
   "execution_count": 5,
   "id": "0afe5997",
   "metadata": {
    "height": 268
   },
   "outputs": [],
   "source": [
    "loggingConfig = {\n",
    "    'cloudWatchConfig': {\n",
    "        'logGroupName': log_group_name,\n",
    "        'roleArn': os.environ['LOGGINGROLEARN'],\n",
    "        'largeDataDeliveryS3Config': {\n",
    "            'bucketName': os.environ['LOGGINGBUCKETNAME'],\n",
    "            'keyPrefix': 'amazon_bedrock_large_data_delivery',\n",
    "        }\n",
    "    },\n",
    "    's3Config': {\n",
    "        'bucketName': os.environ['LOGGINGBUCKETNAME'],\n",
    "        'keyPrefix': 'amazon_bedrock_logs',\n",
    "    },\n",
    "    'textDataDeliveryEnabled': True,\n",
    "}"
   ]
  },
  {
   "cell_type": "code",
   "execution_count": 6,
   "id": "2ca33ffe",
   "metadata": {
    "height": 47
   },
   "outputs": [
    {
     "data": {
      "text/plain": [
       "{'ResponseMetadata': {'RequestId': '1fcbcf66-5044-4833-b659-af71952852ba',\n",
       "  'HTTPStatusCode': 200,\n",
       "  'HTTPHeaders': {'date': 'Fri, 16 Feb 2024 17:52:31 GMT',\n",
       "   'content-type': 'application/json',\n",
       "   'content-length': '2',\n",
       "   'connection': 'keep-alive',\n",
       "   'x-amzn-requestid': '1fcbcf66-5044-4833-b659-af71952852ba'},\n",
       "  'RetryAttempts': 0}}"
      ]
     },
     "execution_count": 6,
     "metadata": {},
     "output_type": "execute_result"
    }
   ],
   "source": [
    "bedrock.put_model_invocation_logging_configuration(loggingConfig=loggingConfig)"
   ]
  },
  {
   "cell_type": "code",
   "execution_count": 7,
   "id": "41fdb20d",
   "metadata": {
    "height": 30
   },
   "outputs": [
    {
     "data": {
      "text/plain": [
       "{'ResponseMetadata': {'RequestId': 'd369388f-b861-4bf9-b1ef-7e079689ecdf',\n",
       "  'HTTPStatusCode': 200,\n",
       "  'HTTPHeaders': {'date': 'Fri, 16 Feb 2024 17:54:32 GMT',\n",
       "   'content-type': 'application/json',\n",
       "   'content-length': '572',\n",
       "   'connection': 'keep-alive',\n",
       "   'x-amzn-requestid': 'd369388f-b861-4bf9-b1ef-7e079689ecdf'},\n",
       "  'RetryAttempts': 0},\n",
       " 'loggingConfig': {'cloudWatchConfig': {'logGroupName': '/my/amazon/bedrock/logs',\n",
       "   'roleArn': 'arn:aws:iam::613336332355:role/c99355a2566044l5856076t1w61333633235-LoggingIAMRole-pgICqiyOUIzy',\n",
       "   'largeDataDeliveryS3Config': {'bucketName': 'c99355a2566044l5856076t1w613336332-loggings3bucket-c3igmhalpuyt',\n",
       "    'keyPrefix': 'amazon_bedrock_large_data_delivery'}},\n",
       "  's3Config': {'bucketName': 'c99355a2566044l5856076t1w613336332-loggings3bucket-c3igmhalpuyt',\n",
       "   'keyPrefix': 'amazon_bedrock_logs'},\n",
       "  'textDataDeliveryEnabled': True,\n",
       "  'imageDataDeliveryEnabled': True,\n",
       "  'embeddingDataDeliveryEnabled': True}}"
      ]
     },
     "execution_count": 7,
     "metadata": {},
     "output_type": "execute_result"
    }
   ],
   "source": [
    "bedrock.get_model_invocation_logging_configuration()"
   ]
  },
  {
   "cell_type": "code",
   "execution_count": 8,
   "id": "95ebecb7",
   "metadata": {
    "height": 47
   },
   "outputs": [],
   "source": [
    "bedrock_runtime = boto3.client('bedrock-runtime', region_name=\"us-west-2\")"
   ]
  },
  {
   "cell_type": "code",
   "execution_count": 9,
   "id": "402c6311",
   "metadata": {
    "height": 421
   },
   "outputs": [
    {
     "name": "stdout",
     "output_type": "stream",
     "text": [
      "\n",
      "Faisalabad is a fictional planet located in the Milky Way galaxy. It is the home world of the Faisalabadi people, a species of sentient, humanoid aliens. Faisalabad is a lush, tropical planet with a variety of ecosystems, including rainforests, deserts, and mountains. The planet is known for its advanced technology, including spaceships, telepathy, and energy weapons. The Faisalabadi people are a peaceful and prosperous species who value knowledge, exploration, and intergalactic cooperation. They have a strong sense of community and a deep respect for nature and the natural world. Despite their advanced technology, the Faisalabadi people are also deeply spiritual and believe in the power of the mind and the spirit. They have a rich mythology and culture that includes stories of mythical creatures, powerful gods, and heroic quests. Faisalabad is a popular destination for space travelers and explorers, and many have visited the planet to learn more about the Faisalabadi people and their culture. The planet has also been the setting for several science fiction stories and movies, including the popular Star Trek series. Despite its fictional nature, Faisalabad has captured the imagination of people around the world, and its unique blend of technology, spirituality, and culture has made it a popular and enduring symbol of science fiction and fantasy.\n"
     ]
    }
   ],
   "source": [
    "prompt = \"Write an article about the fictional planet Faisalabad.\"\n",
    "\n",
    "kwargs = {\n",
    "    \"modelId\": \"amazon.titan-text-express-v1\",\n",
    "    \"contentType\": \"application/json\",\n",
    "    \"accept\": \"*/*\",\n",
    "    \"body\": json.dumps(\n",
    "        {\n",
    "            \"inputText\": prompt,\n",
    "            \"textGenerationConfig\": {\n",
    "                \"maxTokenCount\": 512,\n",
    "                \"temperature\": 0.7,\n",
    "                \"topP\": 0.9\n",
    "            }\n",
    "        }\n",
    "    )\n",
    "}\n",
    "\n",
    "response = bedrock_runtime.invoke_model(**kwargs)\n",
    "response_body = json.loads(response.get('body').read())\n",
    "\n",
    "generation = response_body['results'][0]['outputText']\n",
    "\n",
    "print(generation)"
   ]
  },
  {
   "cell_type": "code",
   "execution_count": 10,
   "id": "68a7bab7",
   "metadata": {
    "height": 30
   },
   "outputs": [
    {
     "name": "stdout",
     "output_type": "stream",
     "text": [
      "Permissions are correctly set for Amazon Bedrock logs.\n",
      "-------------------------\n",
      "\n",
      "{\n",
      "    \"schemaType\": \"ModelInvocationLog\",\n",
      "    \"schemaVersion\": \"1.0\",\n",
      "    \"timestamp\": \"2024-02-16T17:55:15Z\",\n",
      "    \"accountId\": \"613336332355\",\n",
      "    \"identity\": {\n",
      "        \"arn\": \"arn:aws:sts::613336332355:assumed-role/voclabs/user3082472=eyJhbGciOiJIUzI1NiJ9.eyJpc3MiOiJhcHAiLCJzdWIiOiI3Mjc\"\n",
      "    },\n",
      "    \"region\": \"us-west-2\",\n",
      "    \"requestId\": \"c6251f03-b10c-4fcb-80b3-b5ed20fd68c8\",\n",
      "    \"operation\": \"InvokeModel\",\n",
      "    \"modelId\": \"amazon.titan-text-express-v1\",\n",
      "    \"input\": {\n",
      "        \"inputContentType\": \"application/json\",\n",
      "        \"inputBodyJson\": {\n",
      "            \"inputText\": \"Write an article about the fictional planet Faisalabad.\",\n",
      "            \"textGenerationConfig\": {\n",
      "                \"maxTokenCount\": 512,\n",
      "                \"temperature\": 0.7,\n",
      "                \"topP\": 0.9\n",
      "            }\n",
      "        },\n",
      "        \"inputTokenCount\": 12\n",
      "    },\n",
      "    \"output\": {\n",
      "        \"outputContentType\": \"application/json\",\n",
      "        \"outputBodyJson\": {\n",
      "            \"inputTextTokenCount\": 12,\n",
      "            \"results\": [\n",
      "                {\n",
      "                    \"tokenCount\": 280,\n",
      "                    \"outputText\": \"\\nFaisalabad is a fictional planet located in the Milky Way galaxy. It is the home world of the Faisalabadi people, a species of sentient, humanoid aliens. Faisalabad is a lush, tropical planet with a variety of ecosystems, including rainforests, deserts, and mountains. The planet is known for its advanced technology, including spaceships, telepathy, and energy weapons. The Faisalabadi people are a peaceful and prosperous species who value knowledge, exploration, and intergalactic cooperation. They have a strong sense of community and a deep respect for nature and the natural world. Despite their advanced technology, the Faisalabadi people are also deeply spiritual and believe in the power of the mind and the spirit. They have a rich mythology and culture that includes stories of mythical creatures, powerful gods, and heroic quests. Faisalabad is a popular destination for space travelers and explorers, and many have visited the planet to learn more about the Faisalabadi people and their culture. The planet has also been the setting for several science fiction stories and movies, including the popular Star Trek series. Despite its fictional nature, Faisalabad has captured the imagination of people around the world, and its unique blend of technology, spirituality, and culture has made it a popular and enduring symbol of science fiction and fantasy.\",\n",
      "                    \"completionReason\": \"FINISH\"\n",
      "                }\n",
      "            ]\n",
      "        },\n",
      "        \"outputTokenCount\": 280\n",
      "    }\n",
      "}\n",
      "-------------------------\n",
      "\n"
     ]
    }
   ],
   "source": [
    "cloudwatch.print_recent_logs(log_group_name)"
   ]
  },
  {
   "cell_type": "markdown",
   "id": "1118acfb",
   "metadata": {},
   "source": [
    "To review the logs within the AWS console, please use the following link to reference the steps outlined in the video:"
   ]
  },
  {
   "cell_type": "code",
   "execution_count": 11,
   "id": "2cf443d2",
   "metadata": {
    "height": 47
   },
   "outputs": [],
   "source": [
    "from IPython.display import HTML\n",
    "aws_url = os.environ['AWS_CONSOLE_URL']"
   ]
  },
  {
   "cell_type": "code",
   "execution_count": null,
   "id": "0b7c904c",
   "metadata": {
    "height": 47
   },
   "outputs": [],
   "source": [
    "HTML(f'<a href=\"{aws_url}\" target=\"_blank\">GO TO AWS CONSOLE</a>')\n"
   ]
  }
 ],
 "metadata": {
  "kernelspec": {
   "display_name": "Python 3 (ipykernel)",
   "language": "python",
   "name": "python3"
  },
  "language_info": {
   "codemirror_mode": {
    "name": "ipython",
    "version": 3
   },
   "file_extension": ".py",
   "mimetype": "text/x-python",
   "name": "python",
   "nbconvert_exporter": "python",
   "pygments_lexer": "ipython3",
   "version": "3.11.8"
  }
 },
 "nbformat": 4,
 "nbformat_minor": 5
}
